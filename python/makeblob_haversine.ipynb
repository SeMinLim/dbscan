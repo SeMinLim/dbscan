{
 "cells": [
  {
   "cell_type": "code",
   "execution_count": 4,
   "id": "239fea46-db82-4de9-bd43-b7e7259fc43a",
   "metadata": {},
   "outputs": [],
   "source": [
    "from sklearn.datasets import make_blobs\n",
    "\n",
    "x, y = make_blobs(n_samples=50000, n_features=2, centers=16, cluster_std=0.8, random_state=0)"
   ]
  },
  {
   "cell_type": "code",
   "execution_count": 5,
   "id": "2a89b3f6-f726-4198-ba46-b83f803e72ba",
   "metadata": {},
   "outputs": [
    {
     "name": "stdout",
     "output_type": "stream",
     "text": [
      "(50000, 2)\n"
     ]
    }
   ],
   "source": [
    "print(x.shape)"
   ]
  },
  {
   "cell_type": "code",
   "execution_count": 6,
   "id": "e76d8696-dd39-4a2b-810d-9e6f7b939777",
   "metadata": {},
   "outputs": [
    {
     "name": "stdout",
     "output_type": "stream",
     "text": [
      "[-8.32958567  2.2717953 ]\n"
     ]
    }
   ],
   "source": [
    "print(x[0])"
   ]
  },
  {
   "cell_type": "code",
   "execution_count": 7,
   "id": "50fb3417-15ef-4bdd-8258-90307a5e7db5",
   "metadata": {},
   "outputs": [
    {
     "name": "stdout",
     "output_type": "stream",
     "text": [
      "float64\n"
     ]
    }
   ],
   "source": [
    "print(x[0][0].dtype)"
   ]
  },
  {
   "cell_type": "code",
   "execution_count": 9,
   "id": "d0062853-811a-4e52-85f1-acbb27c6d70b",
   "metadata": {},
   "outputs": [],
   "source": [
    "import numpy as np\n",
    "\n",
    "x = np.array(x)"
   ]
  },
  {
   "cell_type": "code",
   "execution_count": 14,
   "id": "20f581eb-5370-488c-a225-15870a0a66d7",
   "metadata": {},
   "outputs": [],
   "source": [
    "x = x.astype(np.float32)"
   ]
  },
  {
   "cell_type": "code",
   "execution_count": 15,
   "id": "66f02ffe-9c41-4823-9aab-1c79bcb23045",
   "metadata": {},
   "outputs": [
    {
     "name": "stdout",
     "output_type": "stream",
     "text": [
      "float32\n"
     ]
    }
   ],
   "source": [
    "print(x[0][0].dtype)"
   ]
  },
  {
   "cell_type": "code",
   "execution_count": 16,
   "id": "d3b1bf82-e7cf-4174-b6ae-d45adc694e36",
   "metadata": {},
   "outputs": [
    {
     "data": {
      "text/plain": [
       "400000"
      ]
     },
     "execution_count": 16,
     "metadata": {},
     "output_type": "execute_result"
    }
   ],
   "source": [
    "file = open(\"/mnt/ssd0/semin/dbscan/makeblob.bin\", \"wb\")\n",
    "file.write(bytes(x))"
   ]
  },
  {
   "cell_type": "code",
   "execution_count": 17,
   "id": "ee86e9be-7f64-47ac-b594-579c0d1fecae",
   "metadata": {},
   "outputs": [],
   "source": [
    "file.close()"
   ]
  },
  {
   "cell_type": "code",
   "execution_count": 18,
   "id": "a09bad1a-90df-4e8e-8997-6c1d19709cec",
   "metadata": {},
   "outputs": [],
   "source": [
    "import struct\n",
    "\n",
    "file = open(\"/mnt/ssd0/semin/dbscan/makeblob.bin\", \"rb\")\n",
    "\n",
    "cities = []\n",
    "while True:\n",
    "    value = file.read(4)\n",
    "    if len(value) != 4:\n",
    "        break\n",
    "    else:\n",
    "        v = struct.unpack(\"f\", value)\n",
    "        cities.append(v)\n",
    "\n",
    "file.close()"
   ]
  },
  {
   "cell_type": "code",
   "execution_count": 20,
   "id": "18e9ed4c-d616-4189-90a1-c54579d98721",
   "metadata": {},
   "outputs": [
    {
     "name": "stdout",
     "output_type": "stream",
     "text": [
      "(50000, 2)\n"
     ]
    }
   ],
   "source": [
    "cities = np.array(cities)\n",
    "cities = cities.reshape(-1, 2)\n",
    "print(cities.shape, flush=True)"
   ]
  },
  {
   "cell_type": "code",
   "execution_count": 21,
   "id": "47d44901-d795-499e-8612-7fc60ef9b194",
   "metadata": {},
   "outputs": [],
   "source": [
    "import math\n",
    "\n",
    "def haversine(x, y):\n",
    "    # Distance between latitudes and longitudes\n",
    "    dlat = (y[0] - x[0])*(3.1415926536 / 180)\n",
    "    dlon = (y[1] - x[1])*(3.1415926536 / 180)\n",
    "\n",
    "    # Convert to radians\n",
    "    rad_lat_x = x[0]*(3.1415926536 / 180)\n",
    "    rad_lat_y = y[0]*(3.1415926536 / 180)\n",
    "\n",
    "    # Apply formula\n",
    "    f = math.pow(math.sin(dlat/2),2) + math.pow(math.sin(dlon/2),2) * math.cos(rad_lat_x) * math.cos(rad_lat_y)\n",
    "\n",
    "    return math.asin(math.sqrt(f)) * 2 * 6371"
   ]
  },
  {
   "cell_type": "code",
   "execution_count": 22,
   "id": "774b09ba-0ffa-47b5-953b-8b3f28b75f21",
   "metadata": {},
   "outputs": [
    {
     "name": "stdout",
     "output_type": "stream",
     "text": [
      "15.541969004999999\n"
     ]
    }
   ],
   "source": [
    "import time\n",
    "from sklearn.cluster import DBSCAN\n",
    "\n",
    "start = time.process_time()\n",
    "dbscan = DBSCAN(eps=5, min_samples=2, metric=haversine).fit(cities)\n",
    "end = time.process_time()\n",
    "elapsed_time = end - start\n",
    "print(elapsed_time)"
   ]
  },
  {
   "cell_type": "code",
   "execution_count": 23,
   "id": "c2a4ac6d-cbfe-4648-a3e9-08a60b525b8e",
   "metadata": {},
   "outputs": [
    {
     "name": "stdout",
     "output_type": "stream",
     "text": [
      "Estimated number of clusters: 5612\n",
      "Estimated number of noise points: 8457\n"
     ]
    }
   ],
   "source": [
    "labels = dbscan.labels_\n",
    "\n",
    "# Number of clusters in labels, ignoring noise if present.\n",
    "n_clusters_ = len(set(labels)) - (1 if -1 in labels else 0)\n",
    "n_noise_ = list(labels).count(-1)\n",
    "\n",
    "print(\"Estimated number of clusters: %d\" % n_clusters_)\n",
    "print(\"Estimated number of noise points: %d\" % n_noise_)"
   ]
  },
  {
   "cell_type": "code",
   "execution_count": null,
   "id": "c1e577e5-00da-4930-8c9f-f59e78339530",
   "metadata": {},
   "outputs": [],
   "source": []
  }
 ],
 "metadata": {
  "kernelspec": {
   "display_name": "Python 3 (ipykernel)",
   "language": "python",
   "name": "python3"
  },
  "language_info": {
   "codemirror_mode": {
    "name": "ipython",
    "version": 3
   },
   "file_extension": ".py",
   "mimetype": "text/x-python",
   "name": "python",
   "nbconvert_exporter": "python",
   "pygments_lexer": "ipython3",
   "version": "3.11.7"
  }
 },
 "nbformat": 4,
 "nbformat_minor": 5
}
