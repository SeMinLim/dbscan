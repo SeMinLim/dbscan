{
 "cells": [
  {
   "cell_type": "code",
   "execution_count": 1,
   "id": "c037a5bf-6073-4bf3-8656-20b0961b64c3",
   "metadata": {},
   "outputs": [],
   "source": [
    "import struct\n",
    "\n",
    "file = open(\"/home/seminl1/durin/dataset/worldcities.bin\", \"rb\")\n",
    "\n",
    "cities = []\n",
    "while True:\n",
    "    value = file.read(4)\n",
    "    if len(value) != 4:\n",
    "        break\n",
    "    else:\n",
    "        v = struct.unpack(\"f\", value)\n",
    "        cities.append(v)\n",
    "\n",
    "file.close()"
   ]
  },
  {
   "cell_type": "code",
   "execution_count": 2,
   "id": "71aa475f-22ed-4771-88d4-c27e941dc2f5",
   "metadata": {},
   "outputs": [
    {
     "name": "stdout",
     "output_type": "stream",
     "text": [
      "(44691, 2)\n"
     ]
    }
   ],
   "source": [
    "import numpy as np\n",
    "\n",
    "cities = np.array(cities)\n",
    "cities = cities.reshape(-1, 2)\n",
    "print(cities.shape, flush=True)"
   ]
  },
  {
   "cell_type": "code",
   "execution_count": 3,
   "id": "b352ca6f-b27f-41b4-b6c5-a83404aaca4b",
   "metadata": {},
   "outputs": [
    {
     "name": "stdout",
     "output_type": "stream",
     "text": [
      "[ 35.68970108 139.69219971]\n"
     ]
    }
   ],
   "source": [
    "print(cities[0])"
   ]
  },
  {
   "cell_type": "code",
   "execution_count": 4,
   "id": "322a217a-67af-40bd-b48e-6e2bf38f7e8a",
   "metadata": {},
   "outputs": [
    {
     "name": "stdout",
     "output_type": "stream",
     "text": [
      "35.689701080322266\n"
     ]
    }
   ],
   "source": [
    "print(cities[0][0])"
   ]
  },
  {
   "cell_type": "code",
   "execution_count": 5,
   "id": "e948851f-4fdd-4a6f-b71a-46130f81f5d1",
   "metadata": {},
   "outputs": [],
   "source": [
    "import math\n",
    "\n",
    "def haversine(x, y):\n",
    "    # Distance between latitudes and longitudes\n",
    "    dlat = (y[0] - x[0])*(3.1415926536 / 180)\n",
    "    dlon = (y[1] - x[1])*(3.1415926536 / 180)\n",
    "\n",
    "    # Convert to radians\n",
    "    rad_lat_x = x[0]*(3.1415926536 / 180)\n",
    "    rad_lat_y = y[0]*(3.1415926536 / 180)\n",
    "\n",
    "    # Apply formula\n",
    "    f = math.pow(math.sin(dlat/2),2) + math.pow(math.sin(dlon/2),2) * math.cos(rad_lat_x) * math.cos(rad_lat_y)\n",
    "\n",
    "    return math.asin(math.sqrt(f)) * 2 * 6371"
   ]
  },
  {
   "cell_type": "code",
   "execution_count": 12,
   "id": "87bcbdb6-3fc1-48b8-812b-26087f46587c",
   "metadata": {},
   "outputs": [
    {
     "name": "stdout",
     "output_type": "stream",
     "text": [
      "1.3186864009999226\n"
     ]
    }
   ],
   "source": [
    "import time\n",
    "from pyclustering.utils.metric import distance_metric, type_metric\n",
    "\n",
    "metric = distance_metric(type_metric.USER_DEFINED, func=haversine)\n",
    "start_distance_matrix = time.process_time()\n",
    "distance_matrix = []\n",
    "for i in range(400):\n",
    "    for j in range(400):\n",
    "        distance = metric(cities[i], cities[j])\n",
    "        distance_matrix.append(distance)\n",
    "end_distance_matrix = time.process_time()\n",
    "elapsed_time_distance_matrix = end_distance_matrix - start_distance_matrix\n",
    "print(elapsed_time_distance_matrix)"
   ]
  },
  {
   "cell_type": "code",
   "execution_count": 13,
   "id": "6239e732-a92d-4eda-89f3-aa620d8fc494",
   "metadata": {},
   "outputs": [
    {
     "name": "stdout",
     "output_type": "stream",
     "text": [
      "(400, 400)\n",
      "0.012703247999979794\n"
     ]
    }
   ],
   "source": [
    "start_change_format = time.process_time()\n",
    "distance_matrix = np.array(distance_matrix)\n",
    "distance_matrix = distance_matrix.reshape(-1, 400)\n",
    "print(distance_matrix.shape, flush=True)\n",
    "end_change_format = time.process_time()\n",
    "elapsed_time_change_format = end_change_format - start_change_format\n",
    "print(elapsed_time_change_format)"
   ]
  },
  {
   "cell_type": "code",
   "execution_count": 14,
   "id": "62e0991d-f05f-4286-8128-61ecfb7e9ee3",
   "metadata": {},
   "outputs": [
    {
     "name": "stdout",
     "output_type": "stream",
     "text": [
      "0.06527302299991788\n"
     ]
    }
   ],
   "source": [
    "from pyclustering.cluster.dbscan import dbscan\n",
    "\n",
    "start = time.process_time()\n",
    "dbscan_instance = dbscan(distance_matrix, 5, 2, True, data_type='distance_matrix');\n",
    "dbscan_instance.process();\n",
    "end = time.process_time()\n",
    "elapsed_time = end - start\n",
    "print(elapsed_time)"
   ]
  },
  {
   "cell_type": "code",
   "execution_count": null,
   "id": "e21d461c-4e24-4d8e-8fd1-b513f159076a",
   "metadata": {},
   "outputs": [],
   "source": []
  }
 ],
 "metadata": {
  "kernelspec": {
   "display_name": "Python 3 (ipykernel)",
   "language": "python",
   "name": "python3"
  },
  "language_info": {
   "codemirror_mode": {
    "name": "ipython",
    "version": 3
   },
   "file_extension": ".py",
   "mimetype": "text/x-python",
   "name": "python",
   "nbconvert_exporter": "python",
   "pygments_lexer": "ipython3",
   "version": "3.11.5"
  }
 },
 "nbformat": 4,
 "nbformat_minor": 5
}
