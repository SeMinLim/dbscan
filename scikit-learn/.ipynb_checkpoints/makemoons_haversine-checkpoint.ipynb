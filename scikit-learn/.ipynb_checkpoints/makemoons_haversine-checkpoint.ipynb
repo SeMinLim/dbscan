{
 "cells": [
  {
   "cell_type": "code",
   "execution_count": 1,
   "id": "a09bad1a-90df-4e8e-8997-6c1d19709cec",
   "metadata": {},
   "outputs": [],
   "source": [
    "import struct\n",
    "\n",
    "file = open(\"/home/seminl1/durin/dataset/makemoons.bin\", \"rb\")\n",
    "\n",
    "cities = []\n",
    "while True:\n",
    "    value = file.read(4)\n",
    "    if len(value) != 4:\n",
    "        break\n",
    "    else:\n",
    "        v = struct.unpack(\"f\", value)\n",
    "        cities.append(v)\n",
    "\n",
    "file.close()"
   ]
  },
  {
   "cell_type": "code",
   "execution_count": 2,
   "id": "18e9ed4c-d616-4189-90a1-c54579d98721",
   "metadata": {},
   "outputs": [
    {
     "name": "stdout",
     "output_type": "stream",
     "text": [
      "(500000, 2)\n"
     ]
    }
   ],
   "source": [
    "import numpy as np\n",
    "\n",
    "cities = np.array(cities)\n",
    "cities = cities.reshape(-1, 2)\n",
    "print(cities.shape, flush=True)"
   ]
  },
  {
   "cell_type": "code",
   "execution_count": 3,
   "id": "47d44901-d795-499e-8612-7fc60ef9b194",
   "metadata": {},
   "outputs": [],
   "source": [
    "import math\n",
    "\n",
    "def haversine(x, y):\n",
    "    # Distance between latitudes and longitudes\n",
    "    dlat = (y[0] - x[0])*(3.1415926536 / 180)\n",
    "    dlon = (y[1] - x[1])*(3.1415926536 / 180)\n",
    "\n",
    "    # Convert to radians\n",
    "    rad_lat_x = x[0]*(3.1415926536 / 180)\n",
    "    rad_lat_y = y[0]*(3.1415926536 / 180)\n",
    "\n",
    "    # Apply formula\n",
    "    f = math.pow(math.sin(dlat/2),2) + math.pow(math.sin(dlon/2),2) * math.cos(rad_lat_x) * math.cos(rad_lat_y)\n",
    "\n",
    "    return math.asin(math.sqrt(f)) * 2 * 6371"
   ]
  },
  {
   "cell_type": "code",
   "execution_count": 4,
   "id": "774b09ba-0ffa-47b5-953b-8b3f28b75f21",
   "metadata": {},
   "outputs": [
    {
     "name": "stdout",
     "output_type": "stream",
     "text": [
      "408.360060454\n"
     ]
    }
   ],
   "source": [
    "import time\n",
    "from sklearn.cluster import DBSCAN\n",
    "\n",
    "start = time.process_time()\n",
    "dbscan = DBSCAN(eps=5, min_samples=2, metric=haversine).fit(cities)\n",
    "end = time.process_time()\n",
    "elapsed_time = end - start\n",
    "print(elapsed_time)"
   ]
  },
  {
   "cell_type": "code",
   "execution_count": 7,
   "id": "c2a4ac6d-cbfe-4648-a3e9-08a60b525b8e",
   "metadata": {},
   "outputs": [
    {
     "name": "stdout",
     "output_type": "stream",
     "text": [
      "Estimated number of clusters: 5167\n",
      "Estimated number of noise points: 7897\n"
     ]
    }
   ],
   "source": [
    "labels = dbscan.labels_\n",
    "\n",
    "# Number of clusters in labels, ignoring noise if present.\n",
    "n_clusters_ = len(set(labels)) - (1 if -1 in labels else 0)\n",
    "n_noise_ = list(labels).count(-1)\n",
    "\n",
    "print(\"Estimated number of clusters: %d\" % n_clusters_)\n",
    "print(\"Estimated number of noise points: %d\" % n_noise_)"
   ]
  },
  {
   "cell_type": "code",
   "execution_count": null,
   "id": "c1e577e5-00da-4930-8c9f-f59e78339530",
   "metadata": {},
   "outputs": [],
   "source": []
  }
 ],
 "metadata": {
  "kernelspec": {
   "display_name": "Python 3 (ipykernel)",
   "language": "python",
   "name": "python3"
  },
  "language_info": {
   "codemirror_mode": {
    "name": "ipython",
    "version": 3
   },
   "file_extension": ".py",
   "mimetype": "text/x-python",
   "name": "python",
   "nbconvert_exporter": "python",
   "pygments_lexer": "ipython3",
   "version": "3.11.5"
  }
 },
 "nbformat": 4,
 "nbformat_minor": 5
}
