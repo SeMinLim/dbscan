{
 "cells": [
  {
   "cell_type": "code",
   "execution_count": 2,
   "id": "239fea46-db82-4de9-bd43-b7e7259fc43a",
   "metadata": {},
   "outputs": [],
   "source": [
    "from sklearn.datasets import make_moons\n",
    "\n",
    "x, y = make_moons(n_samples=500000, noise=0.8)"
   ]
  },
  {
   "cell_type": "code",
   "execution_count": 3,
   "id": "2a89b3f6-f726-4198-ba46-b83f803e72ba",
   "metadata": {},
   "outputs": [
    {
     "name": "stdout",
     "output_type": "stream",
     "text": [
      "(500000, 2)\n"
     ]
    }
   ],
   "source": [
    "print(x.shape)"
   ]
  },
  {
   "cell_type": "code",
   "execution_count": 4,
   "id": "e76d8696-dd39-4a2b-810d-9e6f7b939777",
   "metadata": {},
   "outputs": [
    {
     "name": "stdout",
     "output_type": "stream",
     "text": [
      "[-1.45244092 -0.00833836]\n"
     ]
    }
   ],
   "source": [
    "print(x[0])"
   ]
  },
  {
   "cell_type": "code",
   "execution_count": 5,
   "id": "50fb3417-15ef-4bdd-8258-90307a5e7db5",
   "metadata": {},
   "outputs": [
    {
     "name": "stdout",
     "output_type": "stream",
     "text": [
      "float64\n"
     ]
    }
   ],
   "source": [
    "print(x[0][0].dtype)"
   ]
  },
  {
   "cell_type": "code",
   "execution_count": 6,
   "id": "d0062853-811a-4e52-85f1-acbb27c6d70b",
   "metadata": {},
   "outputs": [],
   "source": [
    "import numpy as np\n",
    "\n",
    "x = np.array(x)"
   ]
  },
  {
   "cell_type": "code",
   "execution_count": 7,
   "id": "20f581eb-5370-488c-a225-15870a0a66d7",
   "metadata": {},
   "outputs": [],
   "source": [
    "x = x.astype(np.float32)"
   ]
  },
  {
   "cell_type": "code",
   "execution_count": 8,
   "id": "66f02ffe-9c41-4823-9aab-1c79bcb23045",
   "metadata": {},
   "outputs": [
    {
     "name": "stdout",
     "output_type": "stream",
     "text": [
      "float32\n"
     ]
    }
   ],
   "source": [
    "print(x[0][0].dtype)"
   ]
  },
  {
   "cell_type": "code",
   "execution_count": 9,
   "id": "d3b1bf82-e7cf-4174-b6ae-d45adc694e36",
   "metadata": {},
   "outputs": [
    {
     "data": {
      "text/plain": [
       "4000000"
      ]
     },
     "execution_count": 9,
     "metadata": {},
     "output_type": "execute_result"
    }
   ],
   "source": [
    "file = open(\"/home/seminl1/durin/dataset/makemoons.bin\", \"wb\")\n",
    "file.write(bytes(x))"
   ]
  },
  {
   "cell_type": "code",
   "execution_count": 10,
   "id": "ee86e9be-7f64-47ac-b594-579c0d1fecae",
   "metadata": {},
   "outputs": [],
   "source": [
    "file.close()"
   ]
  },
  {
   "cell_type": "code",
   "execution_count": null,
   "id": "35c2ae63-1a11-4ff5-b665-0c6ec38e4f65",
   "metadata": {},
   "outputs": [],
   "source": []
  }
 ],
 "metadata": {
  "kernelspec": {
   "display_name": "Python 3 (ipykernel)",
   "language": "python",
   "name": "python3"
  },
  "language_info": {
   "codemirror_mode": {
    "name": "ipython",
    "version": 3
   },
   "file_extension": ".py",
   "mimetype": "text/x-python",
   "name": "python",
   "nbconvert_exporter": "python",
   "pygments_lexer": "ipython3",
   "version": "3.11.5"
  }
 },
 "nbformat": 4,
 "nbformat_minor": 5
}
